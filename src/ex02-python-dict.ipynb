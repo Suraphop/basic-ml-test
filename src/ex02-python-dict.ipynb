{
 "metadata": {
  "language_info": {
   "codemirror_mode": {
    "name": "ipython",
    "version": 3
   },
   "file_extension": ".py",
   "mimetype": "text/x-python",
   "name": "python",
   "nbconvert_exporter": "python",
   "pygments_lexer": "ipython3",
   "version": "3.9.5"
  },
  "orig_nbformat": 4,
  "kernelspec": {
   "name": "python3",
   "display_name": "Python 3.9.5 64-bit ('base': conda)"
  },
  "interpreter": {
   "hash": "be57c52174803b16f93146b11b13948bf296d6995450256e3d545cb683454412"
  }
 },
 "nbformat": 4,
 "nbformat_minor": 2,
 "cells": [
  {
   "cell_type": "code",
   "execution_count": 24,
   "metadata": {},
   "outputs": [
    {
     "output_type": "stream",
     "name": "stdout",
     "text": [
      "{'brand': 'Ford', 'model': 'Mustang', 'year': 1964}\n"
     ]
    }
   ],
   "source": [
    "#dictionary\n",
    "\n",
    "dict1 = {\n",
    "    \"brand\" : \"Ford\",\n",
    "    \"model\" : \"Mustang\",\n",
    "    \"year\" : 1964\n",
    "}\n",
    "\n",
    "print(dict1)"
   ]
  },
  {
   "cell_type": "code",
   "execution_count": 9,
   "metadata": {},
   "outputs": [
    {
     "output_type": "stream",
     "name": "stdout",
     "text": [
      "{'brand': 'Ford', 'model': 'Mustang', 'year': 1964, 'color': 'white'}\n"
     ]
    }
   ],
   "source": [
    "# get keys\n",
    "\n",
    "# x = dict1.keys()\n",
    "# print(x)\n",
    "\n",
    "#print(dict1[\"brand\"])\n",
    "\n",
    "dict1['color'] = \"white\"\n",
    "print(dict1)"
   ]
  },
  {
   "cell_type": "code",
   "execution_count": 18,
   "metadata": {},
   "outputs": [
    {
     "output_type": "stream",
     "name": "stdout",
     "text": [
      "dict_values(['Ford', 'Mustang', 2555, 'white'])\n{'brand': 'Ford', 'model': 'Mustang', 'year': 2021, 'color': 'white'}\n{'brand': 'Ford', 'model': 'Mustang', 'year': 2555, 'color': 'white'}\n"
     ]
    }
   ],
   "source": [
    "# get, change values\n",
    "\n",
    "j = dict1.values()\n",
    "print(j)\n",
    "\n",
    "dict1['year'] = 2021\n",
    "print(dict1)\n",
    "\n",
    "dict1.update({\"year\":2555})\n",
    "print(dict1)"
   ]
  },
  {
   "cell_type": "code",
   "execution_count": 27,
   "metadata": {},
   "outputs": [
    {
     "output_type": "stream",
     "name": "stdout",
     "text": [
      "{}\n"
     ]
    }
   ],
   "source": [
    "#remove\n",
    "\n",
    "# dict1.pop(\"model\")\n",
    "# print(dict1)\n",
    "\n",
    "# dict1.popitem()\n",
    "# print(dict1)\n",
    "\n",
    "# del dict1[\"brand\"]\n",
    "# print(dict1)\n",
    "\n",
    "dict1.clear()\n",
    "print(dict1)\n"
   ]
  }
 ]
}