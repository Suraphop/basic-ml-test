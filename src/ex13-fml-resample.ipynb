{
 "metadata": {
  "language_info": {
   "codemirror_mode": {
    "name": "ipython",
    "version": 3
   },
   "file_extension": ".py",
   "mimetype": "text/x-python",
   "name": "python",
   "nbconvert_exporter": "python",
   "pygments_lexer": "ipython3",
   "version": "3.9.5"
  },
  "orig_nbformat": 4,
  "kernelspec": {
   "name": "python3",
   "display_name": "Python 3.9.5 64-bit ('fml': conda)"
  },
  "interpreter": {
   "hash": "d6d714ca9cbc6de006a16c190909a1920481c4374d77180bfbf747964b847d86"
  }
 },
 "nbformat": 4,
 "nbformat_minor": 2,
 "cells": [
  {
   "cell_type": "code",
   "execution_count": 50,
   "metadata": {},
   "outputs": [
    {
     "output_type": "stream",
     "name": "stdout",
     "text": [
      "len : 10\nfilename C:\\Users\\lbj6639\\scikit_learn_data\\20news_home\\20news-bydate-train\\comp.graphics\\38242\nfilename C:\\Users\\lbj6639\\scikit_learn_data\\20news_home\\20news-bydate-train\\rec.autos\\102994\nfilename C:\\Users\\lbj6639\\scikit_learn_data\\20news_home\\20news-bydate-train\\sci.space\\60880\nfilename C:\\Users\\lbj6639\\scikit_learn_data\\20news_home\\20news-bydate-train\\rec.autos\\102994\nfilename C:\\Users\\lbj6639\\scikit_learn_data\\20news_home\\20news-bydate-train\\comp.graphics\\38242\nfilename C:\\Users\\lbj6639\\scikit_learn_data\\20news_home\\20news-bydate-train\\rec.autos\\102994\nfilename C:\\Users\\lbj6639\\scikit_learn_data\\20news_home\\20news-bydate-train\\comp.sys.ibm.pc.hardware\\60249\nfilename C:\\Users\\lbj6639\\scikit_learn_data\\20news_home\\20news-bydate-train\\rec.autos\\102994\nfilename C:\\Users\\lbj6639\\scikit_learn_data\\20news_home\\20news-bydate-train\\comp.graphics\\38242\nfilename C:\\Users\\lbj6639\\scikit_learn_data\\20news_home\\20news-bydate-train\\comp.os.ms-windows.misc\\10008\n"
     ]
    }
   ],
   "source": [
    "from sklearn.datasets import fetch_20newsgroups\n",
    "from sklearn.utils import resample\n",
    "\n",
    "datasets = fetch_20newsgroups()\n",
    "\n",
    "count = 5\n",
    "\n",
    "X,y,filename = resample(datasets.data[:count], datasets.target[:count], datasets.filenames[:count])\n",
    "\n",
    "print('len :',len(X))\n",
    "for i in range(len(X)):\n",
    "    print('filename',filename[i])\n"
   ]
  }
 ]
}