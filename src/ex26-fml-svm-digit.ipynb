{
    "cells": [
        {
            "cell_type": "code",
            "execution_count": 9,
            "source": [
                "from sklearn.datasets import load_digits\r\n",
                "from sklearn.svm import LinearSVC,SVC\r\n",
                "from sklearn.model_selection import cross_val_predict\r\n",
                "from sklearn.metrics import classification_report,confusion_matrix\r\n",
                "\r\n",
                "datasets = load_digits()\r\n",
                "X,y = datasets.data,datasets.target\r\n",
                "\r\n",
                "clf = LinearSVC()\r\n",
                "#clf = SVC(kernel='sigmoid') # rbf , sigmoid , poly\r\n",
                "y_p = cross_val_predict(clf,X,y,cv=3)\r\n",
                "\r\n",
                "print('classification report:\\n',classification_report(y,y_p))\r\n",
                "print('confuseion Matrix:\\n',confusion_matrix(y,y_p))\r\n"
            ],
            "outputs": [
                {
                    "output_type": "stream",
                    "name": "stderr",
                    "text": [
                        "C:\\Users\\lbj6639\\Miniconda3\\envs\\fml\\lib\\site-packages\\sklearn\\svm\\_base.py:985: ConvergenceWarning: Liblinear failed to converge, increase the number of iterations.\n",
                        "  warnings.warn(\"Liblinear failed to converge, increase \"\n",
                        "C:\\Users\\lbj6639\\Miniconda3\\envs\\fml\\lib\\site-packages\\sklearn\\svm\\_base.py:985: ConvergenceWarning: Liblinear failed to converge, increase the number of iterations.\n",
                        "  warnings.warn(\"Liblinear failed to converge, increase \"\n"
                    ]
                },
                {
                    "output_type": "stream",
                    "name": "stdout",
                    "text": [
                        "classification report:\n",
                        "               precision    recall  f1-score   support\n",
                        "\n",
                        "           0       0.96      0.98      0.97       178\n",
                        "           1       0.78      0.84      0.81       182\n",
                        "           2       0.94      0.89      0.92       177\n",
                        "           3       0.86      0.89      0.87       183\n",
                        "           4       0.97      0.91      0.94       181\n",
                        "           5       0.92      0.93      0.93       182\n",
                        "           6       0.96      0.96      0.96       181\n",
                        "           7       0.95      0.89      0.92       179\n",
                        "           8       0.81      0.84      0.83       174\n",
                        "           9       0.87      0.86      0.86       180\n",
                        "\n",
                        "    accuracy                           0.90      1797\n",
                        "   macro avg       0.90      0.90      0.90      1797\n",
                        "weighted avg       0.90      0.90      0.90      1797\n",
                        "\n",
                        "confuseion Matrix:\n",
                        " [[175   0   0   0   0   1   1   0   1   0]\n",
                        " [  0 152   0   9   0   0   2   1  14   4]\n",
                        " [  1  10 158   3   0   0   0   0   1   4]\n",
                        " [  0   1   2 162   0   5   0   2   7   4]\n",
                        " [  1   7   0   3 165   0   1   1   0   3]\n",
                        " [  0   2   1   1   1 170   2   0   0   5]\n",
                        " [  0   1   1   0   1   2 173   0   3   0]\n",
                        " [  4   1   0   3   2   4   0 159   3   3]\n",
                        " [  0  15   3   4   1   2   1   0 147   1]\n",
                        " [  2   5   3   4   0   1   0   5   5 155]]\n"
                    ]
                },
                {
                    "output_type": "stream",
                    "name": "stderr",
                    "text": [
                        "C:\\Users\\lbj6639\\Miniconda3\\envs\\fml\\lib\\site-packages\\sklearn\\svm\\_base.py:985: ConvergenceWarning: Liblinear failed to converge, increase the number of iterations.\n",
                        "  warnings.warn(\"Liblinear failed to converge, increase \"\n"
                    ]
                }
            ],
            "metadata": {}
        }
    ],
    "metadata": {
        "orig_nbformat": 4,
        "language_info": {
            "name": "python",
            "version": "3.9.5",
            "mimetype": "text/x-python",
            "codemirror_mode": {
                "name": "ipython",
                "version": 3
            },
            "pygments_lexer": "ipython3",
            "nbconvert_exporter": "python",
            "file_extension": ".py"
        },
        "kernelspec": {
            "name": "python3",
            "display_name": "Python 3.9.5 64-bit ('fml': conda)"
        },
        "interpreter": {
            "hash": "d6d714ca9cbc6de006a16c190909a1920481c4374d77180bfbf747964b847d86"
        }
    },
    "nbformat": 4,
    "nbformat_minor": 2
}