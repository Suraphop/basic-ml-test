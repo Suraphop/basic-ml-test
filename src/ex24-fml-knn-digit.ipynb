{
 "cells": [
  {
   "cell_type": "code",
   "execution_count": 1,
   "source": [
    "from sklearn.datasets import load_digits\r\n",
    "from sklearn.neighbors import KNeighborsClassifier\r\n",
    "from sklearn.model_selection import cross_val_predict\r\n",
    "from sklearn.metrics import classification_report,confusion_matrix\r\n",
    "\r\n",
    "datasets = load_digits()\r\n",
    "X,y = datasets.data,datasets.target\r\n",
    "\r\n",
    "print(len(X))\r\n",
    "\r\n",
    "clf = KNeighborsClassifier(weights='distance',metric='minkowski')\r\n",
    "y_p = cross_val_predict(clf,X,y,cv=3)\r\n",
    "\r\n",
    "print('classification report:\\n',classification_report(y,y_p))\r\n",
    "print('confuseion Matrix:\\n',confusion_matrix(y,y_p))"
   ],
   "outputs": [
    {
     "output_type": "stream",
     "name": "stdout",
     "text": [
      "1797\n",
      "classification report:\n",
      "               precision    recall  f1-score   support\n",
      "\n",
      "           0       0.99      0.99      0.99       178\n",
      "           1       0.90      0.98      0.94       182\n",
      "           2       0.99      0.94      0.97       177\n",
      "           3       0.97      0.96      0.97       183\n",
      "           4       0.98      0.97      0.97       181\n",
      "           5       0.97      0.97      0.97       182\n",
      "           6       0.99      0.98      0.99       181\n",
      "           7       0.96      1.00      0.98       179\n",
      "           8       0.95      0.91      0.93       174\n",
      "           9       0.94      0.93      0.93       180\n",
      "\n",
      "    accuracy                           0.96      1797\n",
      "   macro avg       0.97      0.96      0.96      1797\n",
      "weighted avg       0.96      0.96      0.96      1797\n",
      "\n",
      "confuseion Matrix:\n",
      " [[177   0   0   0   1   0   0   0   0   0]\n",
      " [  0 178   0   0   2   0   0   0   0   2]\n",
      " [  1   1 167   1   0   0   0   1   6   0]\n",
      " [  0   0   1 176   0   1   0   3   1   1]\n",
      " [  0   2   0   0 175   0   0   1   0   3]\n",
      " [  0   0   0   0   0 177   1   0   0   4]\n",
      " [  0   2   0   0   0   1 178   0   0   0]\n",
      " [  0   0   0   0   0   0   0 179   0   0]\n",
      " [  0  11   1   1   0   0   0   1 159   1]\n",
      " [  0   3   0   3   1   3   0   1   2 167]]\n"
     ]
    }
   ],
   "metadata": {}
  }
 ],
 "metadata": {
  "orig_nbformat": 4,
  "language_info": {
   "name": "python",
   "version": "3.9.5",
   "mimetype": "text/x-python",
   "codemirror_mode": {
    "name": "ipython",
    "version": 3
   },
   "pygments_lexer": "ipython3",
   "nbconvert_exporter": "python",
   "file_extension": ".py"
  },
  "kernelspec": {
   "name": "python3",
   "display_name": "Python 3.9.5 64-bit ('fml': conda)"
  },
  "interpreter": {
   "hash": "d6d714ca9cbc6de006a16c190909a1920481c4374d77180bfbf747964b847d86"
  }
 },
 "nbformat": 4,
 "nbformat_minor": 2
}