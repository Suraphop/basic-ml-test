{
 "cells": [
  {
   "cell_type": "code",
   "execution_count": 24,
   "source": [
    "import pandas as pd\r\n",
    "\r\n",
    "from sklearn.feature_extraction.text import CountVectorizer\r\n",
    "from sklearn.decomposition import TruncatedSVD\r\n",
    "from sklearn.svm import SVC,LinearSVC\r\n",
    "from sklearn.metrics import classification_report,confusion_matrix\r\n",
    "from sklearn.model_selection import cross_val_predict\r\n",
    "\r\n",
    "datasets = pd.read_csv('../datasets/text-data/amazon_cells_labelled.txt',sep ='\\t',header = None)\r\n",
    "\r\n",
    "sentences = datasets.values[:,0]\r\n",
    "labels = datasets.values[:,1]\r\n",
    "\r\n",
    "X = []\r\n",
    "y = []\r\n",
    "\r\n",
    "for i in range(len(sentences)):\r\n",
    "    X.append(sentences[i])\r\n",
    "    y.append(labels[i])\r\n",
    "\r\n",
    "#print(len(X))\r\n",
    "#print(len(y))\r\n",
    "\r\n",
    "cv = CountVectorizer()\r\n",
    "X_t = cv.fit_transform(X)\r\n",
    "\r\n",
    "#print(X_t.shape)\r\n",
    "\r\n",
    "svd = TruncatedSVD(n_components= 190) \r\n",
    "X_t = svd.fit_transform(X_t)\r\n",
    "\r\n",
    "# for i in range(len(svd.explained_variance_)):\r\n",
    "#    print(i+1, ': ', svd.explained_variance_[i])\r\n",
    "\r\n",
    "#print(X_t.shape)\r\n",
    "\r\n",
    "clf = SVC(kernel ='rbf')\r\n",
    "y_p = cross_val_predict(clf,X_t,y,cv=3)\r\n",
    "\r\n",
    "print('classification report:\\n',classification_report(y,y_p))\r\n",
    "print('confuseion Matrix:\\n',confusion_matrix(y,y_p))\r\n"
   ],
   "outputs": [],
   "metadata": {}
  }
 ],
 "metadata": {
  "orig_nbformat": 4,
  "language_info": {
   "name": "python",
   "version": "3.9.5",
   "mimetype": "text/x-python",
   "codemirror_mode": {
    "name": "ipython",
    "version": 3
   },
   "pygments_lexer": "ipython3",
   "nbconvert_exporter": "python",
   "file_extension": ".py"
  },
  "kernelspec": {
   "name": "python3",
   "display_name": "Python 3.9.5 64-bit ('fml': conda)"
  },
  "interpreter": {
   "hash": "d6d714ca9cbc6de006a16c190909a1920481c4374d77180bfbf747964b847d86"
  }
 },
 "nbformat": 4,
 "nbformat_minor": 2
}