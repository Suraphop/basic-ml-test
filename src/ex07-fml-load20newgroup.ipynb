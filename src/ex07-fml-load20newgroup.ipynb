{
 "metadata": {
  "language_info": {
   "codemirror_mode": {
    "name": "ipython",
    "version": 3
   },
   "file_extension": ".py",
   "mimetype": "text/x-python",
   "name": "python",
   "nbconvert_exporter": "python",
   "pygments_lexer": "ipython3",
   "version": "3.9.5"
  },
  "orig_nbformat": 4,
  "kernelspec": {
   "name": "python3",
   "display_name": "Python 3.9.5 64-bit ('fml': conda)"
  },
  "interpreter": {
   "hash": "d6d714ca9cbc6de006a16c190909a1920481c4374d77180bfbf747964b847d86"
  }
 },
 "nbformat": 4,
 "nbformat_minor": 2,
 "cells": [
  {
   "cell_type": "code",
   "execution_count": 57,
   "metadata": {
    "tags": []
   },
   "outputs": [
    {
     "output_type": "stream",
     "name": "stdout",
     "text": [
      "shape :  (5, 2462)\nnumber of attributes: 2462\n"
     ]
    }
   ],
   "source": [
    "from sklearn.datasets import fetch_20newsgroups\n",
    "from sklearn.feature_extraction.text import CountVectorizer\n",
    "\n",
    "\n",
    "datasets = fetch_20newsgroups()\n",
    "\n",
    "#print(datasets.DESCR)\n",
    "count = 5\n",
    "\n",
    "X,y,filenames = datasets.data[:count] , datasets.target[:count] , datasets.filenames[:count]\n",
    "\n",
    "#print('number of instances :', len(X))\n",
    "#print(X[1] ,' --> target',datasets.target_names[y[1]])\n",
    "#print(filenames[1] ,' --> target',datasets.target_names[y[1]])\n",
    "\n",
    "vecterizer = CountVectorizer(analyzer='word',ngram_range=(2,4))\n",
    "\n",
    "X_t = vecterizer.fit_transform(X)\n",
    "#print(vecterizer.get_feature_names())\n",
    "#print(X_t.toarray())\n",
    "print('shape : ',X_t.toarray().shape)\n",
    "print('number of attributes:', len(vecterizer.vocabulary_))"
   ]
  }
 ]
}