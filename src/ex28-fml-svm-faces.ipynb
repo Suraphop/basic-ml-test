{
 "cells": [
  {
   "cell_type": "code",
   "execution_count": 1,
   "source": [
    "from sklearn.datasets import fetch_olivetti_faces\r\n",
    "from sklearn.decomposition import PCA\r\n",
    "from sklearn.svm import SVC\r\n",
    "from sklearn.model_selection import cross_val_predict\r\n",
    "from sklearn.metrics import confusion_matrix,classification_report\r\n",
    "\r\n",
    "datasets = fetch_olivetti_faces(data_home= '../datasets/olivetti_faces')\r\n",
    "\r\n",
    "X,y = datasets.data , datasets.target\r\n",
    "\r\n",
    "print(X.shape)\r\n",
    "pca = PCA(n_components=71)\r\n",
    "X_t = pca.fit_transform(X)\r\n",
    "\r\n",
    "print(X_t.shape)\r\n",
    "# for i in range(len(pca.explained_variance_)):\r\n",
    "#    print(i+1, ': ', pca.explained_variance_[i])\r\n",
    "\r\n",
    "clf = SVC(kernel='rbf')\r\n",
    "y_p = cross_val_predict(clf,X_t,y,cv=3)\r\n",
    "\r\n",
    "print('classification report:\\n',classification_report(y,y_p))\r\n",
    "print('confuseion Matrix:\\n',confusion_matrix(y,y_p))\r\n"
   ],
   "outputs": [],
   "metadata": {}
  }
 ],
 "metadata": {
  "orig_nbformat": 4,
  "language_info": {
   "name": "python",
   "version": "3.9.5",
   "mimetype": "text/x-python",
   "codemirror_mode": {
    "name": "ipython",
    "version": 3
   },
   "pygments_lexer": "ipython3",
   "nbconvert_exporter": "python",
   "file_extension": ".py"
  },
  "kernelspec": {
   "name": "python3",
   "display_name": "Python 3.9.5 64-bit ('fml': conda)"
  },
  "interpreter": {
   "hash": "d6d714ca9cbc6de006a16c190909a1920481c4374d77180bfbf747964b847d86"
  }
 },
 "nbformat": 4,
 "nbformat_minor": 2
}