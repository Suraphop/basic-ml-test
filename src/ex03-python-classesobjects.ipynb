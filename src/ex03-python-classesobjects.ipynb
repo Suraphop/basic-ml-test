{
 "metadata": {
  "language_info": {
   "codemirror_mode": {
    "name": "ipython",
    "version": 3
   },
   "file_extension": ".py",
   "mimetype": "text/x-python",
   "name": "python",
   "nbconvert_exporter": "python",
   "pygments_lexer": "ipython3",
   "version": "3.9.5"
  },
  "orig_nbformat": 4,
  "kernelspec": {
   "name": "python3",
   "display_name": "Python 3.9.5 64-bit ('base': conda)"
  },
  "interpreter": {
   "hash": "be57c52174803b16f93146b11b13948bf296d6995450256e3d545cb683454412"
  }
 },
 "nbformat": 4,
 "nbformat_minor": 2,
 "cells": [
  {
   "cell_type": "code",
   "execution_count": 7,
   "metadata": {},
   "outputs": [],
   "source": [
    "#create classes\n",
    "\n",
    "class Myclass:\n",
    "    x = 5"
   ]
  },
  {
   "cell_type": "code",
   "execution_count": 9,
   "metadata": {},
   "outputs": [
    {
     "output_type": "stream",
     "name": "stdout",
     "text": [
      "5\n"
     ]
    }
   ],
   "source": [
    "#create object\n",
    "\n",
    "p1 = Myclass()\n",
    "print(p1.x)"
   ]
  },
  {
   "cell_type": "code",
   "execution_count": 23,
   "metadata": {},
   "outputs": [
    {
     "output_type": "stream",
     "name": "stdout",
     "text": [
      "<__main__.Person object at 0x0000020D5829C430>\nSuraphop\n39\nhello my name is Suraphop Bunsawat\n"
     ]
    }
   ],
   "source": [
    "#init fuction\n",
    "\n",
    "class Person:\n",
    "    def __init__(self, names ,surname, ages):\n",
    "        self.name = names\n",
    "        #self.name = \"this is \"+names\n",
    "        self.surname = surname\n",
    "        self.age = ages+10\n",
    "        \n",
    "    def myfunc(self):\n",
    "        print(\"hello my name is \"+ self.name +' '+ self.surname)\n",
    "\n",
    "p2 = Person('Suraphop','Bunsawat',29)\n",
    "print(p2)\n",
    "print(p2.name)\n",
    "print(p2.age)\n",
    "\n",
    "p2.myfunc()"
   ]
  }
 ]
}