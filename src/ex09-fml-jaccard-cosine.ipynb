{
 "metadata": {
  "language_info": {
   "codemirror_mode": {
    "name": "ipython",
    "version": 3
   },
   "file_extension": ".py",
   "mimetype": "text/x-python",
   "name": "python",
   "nbconvert_exporter": "python",
   "pygments_lexer": "ipython3",
   "version": "3.9.5"
  },
  "orig_nbformat": 4,
  "kernelspec": {
   "name": "python3",
   "display_name": "Python 3.9.5 64-bit ('fml': conda)"
  },
  "interpreter": {
   "hash": "d6d714ca9cbc6de006a16c190909a1920481c4374d77180bfbf747964b847d86"
  }
 },
 "nbformat": 4,
 "nbformat_minor": 2,
 "cells": [
  {
   "cell_type": "code",
   "execution_count": 30,
   "metadata": {},
   "outputs": [
    {
     "output_type": "stream",
     "name": "stdout",
     "text": [
      "jaccard : 1.0\ncosind : 0.685029605825644\n"
     ]
    }
   ],
   "source": [
    "from scipy.spatial.distance import jaccard , cosine\n",
    "\n",
    "d1 = [3, 2, 0, 5, 0, 0, 0, 2, 0, 0]\n",
    "d2 = [1, 0, 0, 0, 0, 0, 0, 1, 0, 2]\n",
    "\n",
    "jac = jaccard(d1,d2)\n",
    "print('jaccard :',jac)\n",
    "\n",
    "cons = cosine(d1,d2)\n",
    "print('cosind :',cons)"
   ]
  }
 ]
}