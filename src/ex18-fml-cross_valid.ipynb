{
 "metadata": {
  "language_info": {
   "codemirror_mode": {
    "name": "ipython",
    "version": 3
   },
   "file_extension": ".py",
   "mimetype": "text/x-python",
   "name": "python",
   "nbconvert_exporter": "python",
   "pygments_lexer": "ipython3",
   "version": "3.9.5"
  },
  "orig_nbformat": 4,
  "kernelspec": {
   "name": "python3",
   "display_name": "Python 3.9.5 64-bit ('fml': conda)"
  },
  "interpreter": {
   "hash": "d6d714ca9cbc6de006a16c190909a1920481c4374d77180bfbf747964b847d86"
  }
 },
 "nbformat": 4,
 "nbformat_minor": 2,
 "cells": [
  {
   "cell_type": "code",
   "execution_count": 12,
   "metadata": {},
   "outputs": [
    {
     "output_type": "stream",
     "name": "stdout",
     "text": [
      "accuracy score : 0.7829716193656093\nconfusion matrix :\n [[164   0   2   1   4   3   3   0   1   0]\n [  0 135  11  10   2   2   2   1  10   9]\n [  0  16 125   7   1   2   3   4  15   4]\n [  0   4   6 135   1   8   4   5  11   9]\n [  1  16   3   0 135   2   9   5   6   4]\n [  9   2   1   2   7 147   7   0   3   4]\n [  2   3   0   0   7   2 162   2   3   0]\n [  3   2   1   3   9   4   1 146   6   4]\n [  1  12   5  10   1   5   0   0 131   9]\n [  2  11   5  13   2   7   1   7   5 127]]\nclassification report :\n               precision    recall  f1-score   support\n\n           0       0.90      0.92      0.91       178\n           1       0.67      0.74      0.70       182\n           2       0.79      0.71      0.74       177\n           3       0.75      0.74      0.74       183\n           4       0.80      0.75      0.77       181\n           5       0.81      0.81      0.81       182\n           6       0.84      0.90      0.87       181\n           7       0.86      0.82      0.84       179\n           8       0.69      0.75      0.72       174\n           9       0.75      0.71      0.73       180\n\n    accuracy                           0.78      1797\n   macro avg       0.78      0.78      0.78      1797\nweighted avg       0.78      0.78      0.78      1797\n\n"
     ]
    }
   ],
   "source": [
    "from sklearn.datasets import load_digits\n",
    "from sklearn.tree import DecisionTreeClassifier\n",
    "from sklearn.model_selection import cross_val_predict\n",
    "from sklearn.metrics import confusion_matrix,accuracy_score,classification_report\n",
    "\n",
    "datasets = load_digits()\n",
    "X,y = datasets.data,datasets.target\n",
    "\n",
    "clf = DecisionTreeClassifier()\n",
    "y_predict = cross_val_predict(clf,X,y,cv=5)\n",
    "\n",
    "print('accuracy score :',accuracy_score(y,y_predict))\n",
    "print('confusion matrix :\\n',confusion_matrix(y,y_predict))\n",
    "print('classification report :\\n',classification_report(y,y_predict))\n"
   ]
  }
 ]
}