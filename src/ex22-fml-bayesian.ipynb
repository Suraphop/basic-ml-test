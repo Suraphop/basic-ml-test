{
 "cells": [
  {
   "cell_type": "code",
   "execution_count": 30,
   "source": [
    "from sklearn.datasets import fetch_20newsgroups\r\n",
    "from sklearn.feature_extraction.text import CountVectorizer\r\n",
    "from sklearn.naive_bayes import BernoulliNB,GaussianNB,MultinomialNB\r\n",
    "from sklearn.metrics import classification_report,confusion_matrix\r\n",
    "\r\n",
    "trainset = fetch_20newsgroups(data_home = '../datasets/20newsgroups',subset='train')\r\n",
    "X_train,y_train = trainset.data , trainset.target\r\n",
    "\r\n",
    "testset = fetch_20newsgroups(data_home = '../datasets/20newsgroups',subset='test')\r\n",
    "X_test,y_test = testset.data , testset.target\r\n",
    "\r\n",
    "# print(len(X_train))\r\n",
    "# print(len(X_test))\r\n",
    "\r\n",
    "cv = CountVectorizer()\r\n",
    "X_train_t = cv.fit_transform(X_train)\r\n",
    "X_test_t = cv.transform(X_test)\r\n",
    "print(X_train_t.shape)\r\n",
    "\r\n",
    "clf = MultinomialNB()\r\n",
    "clf.fit(X_train_t, y_train)\r\n",
    "y_p = clf.predict(X_test_t)\r\n",
    "\r\n",
    "print('classification report:',classification_report(y_test,y_p))\r\n",
    "print('confuseion Matrix:',confusion_matrix(y_test,y_p))"
   ],
   "outputs": [],
   "metadata": {}
  }
 ],
 "metadata": {
  "orig_nbformat": 4,
  "language_info": {
   "name": "python",
   "version": "3.9.5",
   "mimetype": "text/x-python",
   "codemirror_mode": {
    "name": "ipython",
    "version": 3
   },
   "pygments_lexer": "ipython3",
   "nbconvert_exporter": "python",
   "file_extension": ".py"
  },
  "kernelspec": {
   "name": "python3",
   "display_name": "Python 3.9.5 64-bit ('fml': conda)"
  },
  "interpreter": {
   "hash": "d6d714ca9cbc6de006a16c190909a1920481c4374d77180bfbf747964b847d86"
  }
 },
 "nbformat": 4,
 "nbformat_minor": 2
}