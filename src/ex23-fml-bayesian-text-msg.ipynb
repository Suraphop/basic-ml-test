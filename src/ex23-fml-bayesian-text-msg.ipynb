{
 "cells": [
  {
   "cell_type": "code",
   "execution_count": 38,
   "source": [
    "import pandas as pd\r\n",
    "from sklearn.feature_extraction.text import CountVectorizer\r\n",
    "from sklearn.naive_bayes import MultinomialNB\r\n",
    "from sklearn.model_selection import cross_val_predict\r\n",
    "from sklearn.metrics import classification_report,confusion_matrix\r\n",
    "\r\n",
    "\r\n",
    "datasets = pd.read_csv('../datasets/text-data/amazon_cells_labelled.txt',sep='\\t', header = None)\r\n",
    "print(len(datasets))\r\n",
    "\r\n",
    "sentences = datasets.values[:,0]\r\n",
    "labels = datasets.values[:,1]\r\n",
    "\r\n",
    "#print(sentences)\r\n",
    "#print(labels)\r\n",
    "\r\n",
    "X =[]\r\n",
    "y = []\r\n",
    "\r\n",
    "for i in range(len(sentences)):\r\n",
    "    X.append(sentences[i])\r\n",
    "    y.append(labels[i])\r\n",
    "\r\n",
    "#print(X)\r\n",
    "#print(y)\r\n",
    "\r\n",
    "cv = CountVectorizer(analyzer='word',ngram_range=(1,3))\r\n",
    "X_t = cv.fit_transform(X)\r\n",
    "\r\n",
    "# print(cv.get_feature_names())\r\n",
    "# print(X_t.toarray())\r\n",
    "# print('shape : ',X_t.toarray().shape)\r\n",
    "# print('number of attributes:', len(cv.vocabulary_))\r\n",
    "\r\n",
    "\r\n",
    "clf = MultinomialNB()\r\n",
    "y_p = cross_val_predict(clf,X_t,y,cv=3)\r\n",
    "\r\n",
    "print('classification report:\\n',classification_report(y,y_p))\r\n",
    "print('confuseion Matrix:\\n',confusion_matrix(y,y_p))\r\n",
    "\r\n",
    "clf.fit(X_t,y)\r\n",
    "\r\n",
    "msg = input(\"comment here\")\r\n",
    "list_msg = [msg]\r\n",
    "list_msg_t = cv.transform(list_msg)\r\n",
    "pred = clf.predict(list_msg_t)\r\n",
    "prob = clf.predict_proba(list_msg_t)\r\n",
    "print('predict',pred)\r\n",
    "print('prob',prob)\r\n",
    "if(pred == 0):\r\n",
    "    print('negative comment')\r\n",
    "else:\r\n",
    "    print('positive comment')"
   ],
   "outputs": [
    {
     "output_type": "stream",
     "name": "stdout",
     "text": [
      "1000\n",
      "classification report:\n",
      "               precision    recall  f1-score   support\n",
      "\n",
      "           0       0.84      0.72      0.77       500\n",
      "           1       0.75      0.86      0.80       500\n",
      "\n",
      "    accuracy                           0.79      1000\n",
      "   macro avg       0.79      0.79      0.79      1000\n",
      "weighted avg       0.79      0.79      0.79      1000\n",
      "\n",
      "confuseion Matrix:\n",
      " [[359 141]\n",
      " [ 70 430]]\n",
      "predict [1]\n",
      "prob [[0.17255798 0.82744202]]\n",
      "positive comment\n"
     ]
    }
   ],
   "metadata": {}
  }
 ],
 "metadata": {
  "orig_nbformat": 4,
  "language_info": {
   "name": "python",
   "version": "3.9.5",
   "mimetype": "text/x-python",
   "codemirror_mode": {
    "name": "ipython",
    "version": 3
   },
   "pygments_lexer": "ipython3",
   "nbconvert_exporter": "python",
   "file_extension": ".py"
  },
  "kernelspec": {
   "name": "python3",
   "display_name": "Python 3.9.5 64-bit ('fml': conda)"
  },
  "interpreter": {
   "hash": "d6d714ca9cbc6de006a16c190909a1920481c4374d77180bfbf747964b847d86"
  }
 },
 "nbformat": 4,
 "nbformat_minor": 2
}