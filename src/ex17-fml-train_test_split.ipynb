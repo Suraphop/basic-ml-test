{
 "metadata": {
  "language_info": {
   "codemirror_mode": {
    "name": "ipython",
    "version": 3
   },
   "file_extension": ".py",
   "mimetype": "text/x-python",
   "name": "python",
   "nbconvert_exporter": "python",
   "pygments_lexer": "ipython3",
   "version": "3.9.5"
  },
  "orig_nbformat": 4,
  "kernelspec": {
   "name": "python3",
   "display_name": "Python 3.9.5 64-bit ('fml': conda)"
  },
  "interpreter": {
   "hash": "d6d714ca9cbc6de006a16c190909a1920481c4374d77180bfbf747964b847d86"
  }
 },
 "nbformat": 4,
 "nbformat_minor": 2,
 "cells": [
  {
   "cell_type": "code",
   "execution_count": 137,
   "metadata": {},
   "outputs": [
    {
     "output_type": "stream",
     "name": "stdout",
     "text": [
      "score train set 1.0\nscore test set 0.8638888888888889\naccuracy score : 0.8638888888888889\nconfusion matrix :\n [[40  0  0  0  1  0  0  0  1  0]\n [ 0 23  2  0  0  2  2  0  1  0]\n [ 1  1 31  0  0  1  0  0  0  0]\n [ 0  0  2 30  0  0  0  3  0  3]\n [ 0  1  1  0 35  0  0  0  0  1]\n [ 0  0  0  0  2 29  1  0  1  0]\n [ 1  0  0  1  1  0 33  1  0  0]\n [ 0  0  0  2  2  0  1 25  1  0]\n [ 0  2  5  0  2  0  0  0 29  2]\n [ 0  0  0  0  0  0  0  1  0 36]]\nclassification report :\n               precision    recall  f1-score   support\n\n           0       0.95      0.95      0.95        42\n           1       0.85      0.77      0.81        30\n           2       0.76      0.91      0.83        34\n           3       0.91      0.79      0.85        38\n           4       0.81      0.92      0.86        38\n           5       0.91      0.88      0.89        33\n           6       0.89      0.89      0.89        37\n           7       0.83      0.81      0.82        31\n           8       0.88      0.72      0.79        40\n           9       0.86      0.97      0.91        37\n\n    accuracy                           0.86       360\n   macro avg       0.87      0.86      0.86       360\nweighted avg       0.87      0.86      0.86       360\n\n"
     ]
    }
   ],
   "source": [
    "from sklearn.datasets import load_digits\n",
    "from sklearn.model_selection import train_test_split\n",
    "from sklearn.tree import DecisionTreeClassifier\n",
    "from sklearn.metrics import accuracy_score,confusion_matrix,classification_report\n",
    "\n",
    "import matplotlib.pyplot as plt\n",
    "\n",
    "datasets = load_digits()\n",
    "X,y = datasets.data,datasets.target\n",
    "#print('total :',len(X))\n",
    "\n",
    "X_train,X_test,y_train,y_test = train_test_split(X,y,test_size= 0.2)\n",
    "# print('X_train',len(X_train))\n",
    "# print('X_test',len(X_test))\n",
    "\n",
    "# index = 1\n",
    "\n",
    "# plt.suptitle(datasets.target_names[y_train[index]])\n",
    "# plt.subplot(1,1,1)\n",
    "# plt.imshow(X_train[index].reshape(8,8))\n",
    "# plt.show()\n",
    "\n",
    "clf = DecisionTreeClassifier()\n",
    "clf.fit(X_train,y_train)\n",
    "print('score train set',clf.score(X_train,y_train))\n",
    "\n",
    "y_predict = clf.predict(X_test)\n",
    "print('score test set',clf.score(X_test,y_test))\n",
    "\n",
    "print('accuracy score :',accuracy_score(y_test,y_predict))\n",
    "print('confusion matrix :\\n',confusion_matrix(y_test,y_predict))\n",
    "print('classification report :\\n',classification_report(y_test,y_predict))\n"
   ]
  }
 ]
}