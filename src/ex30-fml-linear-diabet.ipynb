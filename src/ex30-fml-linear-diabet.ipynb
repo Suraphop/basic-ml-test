{
 "cells": [
  {
   "cell_type": "code",
   "execution_count": 18,
   "source": [
    "from sklearn.datasets import load_diabetes\r\n",
    "from sklearn.linear_model import LinearRegression\r\n",
    "from sklearn.model_selection import cross_val_predict\r\n",
    "from sklearn.metrics import mean_squared_error\r\n",
    "\r\n",
    "import matplotlib.pyplot as plt\r\n",
    "\r\n",
    "datasets = load_diabetes()\r\n",
    "\r\n",
    "X,y = datasets.data,datasets.target\r\n",
    "\r\n",
    "# print(datasets.DESCR)\r\n",
    "# print(datasets.feature_names)\r\n",
    "# print(X)\r\n",
    "# print(y)\r\n",
    "\r\n",
    "print(X.shape)\r\n",
    "\r\n",
    "rgr = LinearRegression()\r\n",
    "y_p = cross_val_predict(rgr,X,y,cv=3)\r\n",
    "\r\n",
    "print('mse :',mean_squared_error(y,y_p))\r\n",
    "\r\n"
   ],
   "outputs": [
    {
     "output_type": "stream",
     "name": "stdout",
     "text": [
      "(442, 10)\n",
      "mse : 3027.1605557838257\n"
     ]
    }
   ],
   "metadata": {}
  }
 ],
 "metadata": {
  "orig_nbformat": 4,
  "language_info": {
   "name": "python",
   "version": "3.9.5",
   "mimetype": "text/x-python",
   "codemirror_mode": {
    "name": "ipython",
    "version": 3
   },
   "pygments_lexer": "ipython3",
   "nbconvert_exporter": "python",
   "file_extension": ".py"
  },
  "kernelspec": {
   "name": "python3",
   "display_name": "Python 3.9.5 64-bit ('fml': conda)"
  },
  "interpreter": {
   "hash": "d6d714ca9cbc6de006a16c190909a1920481c4374d77180bfbf747964b847d86"
  }
 },
 "nbformat": 4,
 "nbformat_minor": 2
}