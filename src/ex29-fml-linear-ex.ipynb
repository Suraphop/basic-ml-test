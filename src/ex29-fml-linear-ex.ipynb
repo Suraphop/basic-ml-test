{
    "cells": [
        {
            "cell_type": "code",
            "execution_count": 1,
            "source": [
                "import matplotlib.pyplot as plt\r\n",
                "\r\n",
                "from sklearn.datasets import make_regression\r\n",
                "from sklearn.linear_model import LinearRegression,Ridge,Lasso,ElasticNet\r\n",
                "\r\n",
                "\r\n",
                "X,y = make_regression(n_samples = 40 , n_features=1, noise =5.0,random_state=1)\r\n",
                "\r\n",
                "#print(X.shape)\r\n",
                "#print(y.shape)\r\n",
                "\r\n",
                "rgr = LinearRegression() #LinearRegression ,Ridge,Lasso,ElasticNet\r\n",
                "rgr.fit(X,y)\r\n",
                "y_p = rgr.predict(X)\r\n",
                "\r\n",
                "print('coefs:',rgr.coef_)\r\n",
                "print('intercept:',rgr.intercept_)\r\n",
                "print('R^2:',rgr.score(X,y))\r\n",
                "\r\n",
                "plt.scatter(X,y, color = 'blue')\r\n",
                "plt.plot(X,y_p,color='red')\r\n",
                "plt.show()\r\n"
            ],
            "outputs": [],
            "metadata": {}
        }
    ],
    "metadata": {
        "orig_nbformat": 4,
        "language_info": {
            "name": "python",
            "version": "3.9.5",
            "mimetype": "text/x-python",
            "codemirror_mode": {
                "name": "ipython",
                "version": 3
            },
            "pygments_lexer": "ipython3",
            "nbconvert_exporter": "python",
            "file_extension": ".py"
        },
        "kernelspec": {
            "name": "python3",
            "display_name": "Python 3.9.5 64-bit ('fml': conda)"
        },
        "interpreter": {
            "hash": "d6d714ca9cbc6de006a16c190909a1920481c4374d77180bfbf747964b847d86"
        }
    },
    "nbformat": 4,
    "nbformat_minor": 2
}