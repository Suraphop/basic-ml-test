{
 "metadata": {
  "language_info": {
   "codemirror_mode": {
    "name": "ipython",
    "version": 3
   },
   "file_extension": ".py",
   "mimetype": "text/x-python",
   "name": "python",
   "nbconvert_exporter": "python",
   "pygments_lexer": "ipython3",
   "version": "3.9.5"
  },
  "orig_nbformat": 4,
  "kernelspec": {
   "name": "python3",
   "display_name": "Python 3.9.5 64-bit ('fml': conda)"
  },
  "interpreter": {
   "hash": "d6d714ca9cbc6de006a16c190909a1920481c4374d77180bfbf747964b847d86"
  }
 },
 "nbformat": 4,
 "nbformat_minor": 2,
 "cells": [
  {
   "cell_type": "code",
   "execution_count": 21,
   "metadata": {},
   "outputs": [
    {
     "output_type": "stream",
     "name": "stdout",
     "text": [
      "sepal length (cm)  x  sepal width (cm) -0.11756978413300198\nsepal length (cm)  x  petal length (cm) 0.8717537758865831\nsepal length (cm)  x  petal width (cm) 0.8179411262715757\nsepal width (cm)  x  petal length (cm) -0.4284401043305397\nsepal width (cm)  x  petal width (cm) -0.36612593253643905\npetal length (cm)  x  petal width (cm) 0.9628654314027963\n"
     ]
    }
   ],
   "source": [
    "from sklearn.datasets import load_iris\n",
    "import numpy as np \n",
    "from numpy import corrcoef\n",
    "datasets = load_iris()\n",
    "\n",
    "X,y = datasets.data,datasets.target\n",
    "#print(X)\n",
    "\n",
    "X_t = np.transpose(X)\n",
    "#print(X_t)\n",
    "#print(len(X_t))\n",
    "#print(X_t.shape)\n",
    "\n",
    "for i in range(4):\n",
    "    for j in range(i+1,4):\n",
    "        print(datasets.feature_names[i],' x ',datasets.feature_names[j],corrcoef(X_t[i],X_t[j])[0,1])"
   ]
  }
 ]
}