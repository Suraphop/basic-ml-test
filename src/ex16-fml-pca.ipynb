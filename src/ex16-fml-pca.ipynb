{
 "metadata": {
  "language_info": {
   "codemirror_mode": {
    "name": "ipython",
    "version": 3
   },
   "file_extension": ".py",
   "mimetype": "text/x-python",
   "name": "python",
   "nbconvert_exporter": "python",
   "pygments_lexer": "ipython3",
   "version": "3.9.5"
  },
  "orig_nbformat": 4,
  "kernelspec": {
   "name": "python3",
   "display_name": "Python 3.9.5 64-bit ('fml': conda)"
  },
  "interpreter": {
   "hash": "d6d714ca9cbc6de006a16c190909a1920481c4374d77180bfbf747964b847d86"
  }
 },
 "nbformat": 4,
 "nbformat_minor": 2,
 "cells": [
  {
   "cell_type": "code",
   "execution_count": 10,
   "metadata": {},
   "outputs": [
    {
     "output_type": "stream",
     "name": "stdout",
     "text": [
      "(1797, 64)\nnumber of components 10\n1 :  179.00693009665497\n2 :  163.71774688085466\n3 :  141.7884390281839\n4 :  101.10037499469934\n5 :  69.51315110318421\n6 :  59.10836781436557\n7 :  51.88447160709682\n8 :  44.0150202595933\n9 :  40.30828297080854\n10 :  37.00572008393054\n"
     ]
    }
   ],
   "source": [
    "from sklearn.datasets import load_digits\n",
    "from sklearn.decomposition import PCA\n",
    "\n",
    "datasets = load_digits()\n",
    "\n",
    "X,y = datasets.data,datasets.target\n",
    "#print(X[1])\n",
    "print(X.shape)\n",
    "\n",
    "pca = PCA(n_components=10)\n",
    "X_t = pca.fit_transform(X)\n",
    "\n",
    "print('number of components',len(pca.components_))\n",
    "for i in range(len(pca.explained_variance_)):\n",
    "    print(i+1, ': ', pca.explained_variance_[i])"
   ]
  }
 ]
}