{
 "metadata": {
  "language_info": {
   "codemirror_mode": {
    "name": "ipython",
    "version": 3
   },
   "file_extension": ".py",
   "mimetype": "text/x-python",
   "name": "python",
   "nbconvert_exporter": "python",
   "pygments_lexer": "ipython3",
   "version": "3.9.5"
  },
  "orig_nbformat": 4,
  "kernelspec": {
   "name": "python3",
   "display_name": "Python 3.9.5 64-bit ('fml': conda)"
  },
  "interpreter": {
   "hash": "d6d714ca9cbc6de006a16c190909a1920481c4374d77180bfbf747964b847d86"
  }
 },
 "nbformat": 4,
 "nbformat_minor": 2,
 "cells": [
  {
   "cell_type": "code",
   "execution_count": 15,
   "metadata": {},
   "outputs": [
    {
     "output_type": "stream",
     "name": "stdout",
     "text": [
      "(500, 20828)\nnumber of components 10\n1 :  118786.55561966608\n2 :  2354.752736899422\n3 :  128.61075665162042\n4 :  87.85684630314385\n5 :  63.52501491863014\n6 :  60.33045993039498\n7 :  36.89435577148335\n8 :  38.16420283169546\n9 :  27.449729615870726\n10 :  21.027337346090885\n"
     ]
    }
   ],
   "source": [
    "from sklearn.datasets import fetch_20newsgroups\n",
    "from sklearn.utils import resample\n",
    "from sklearn.feature_extraction.text import CountVectorizer\n",
    "from sklearn.decomposition import TruncatedSVD\n",
    "\n",
    "datasets = fetch_20newsgroups()\n",
    "\n",
    "count = 500\n",
    "X,y = resample(datasets.data,datasets.target,n_samples=500)\n",
    "#print(X[0])\n",
    "\n",
    "vectorizer = CountVectorizer()\n",
    "X_t = vectorizer.fit_transform(X)\n",
    "print(X_t.shape)\n",
    "\n",
    "svd = TruncatedSVD(n_components = 10)\n",
    "svd.fit_transform(X_t)\n",
    "print('number of components',len(svd.components_))\n",
    "for i in range(len(svd.explained_variance_)):\n",
    "    print(i+1, ': ', svd.explained_variance_[i])\n"
   ]
  }
 ]
}