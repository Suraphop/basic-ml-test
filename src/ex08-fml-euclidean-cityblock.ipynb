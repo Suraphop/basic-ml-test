{
 "metadata": {
  "language_info": {
   "codemirror_mode": {
    "name": "ipython",
    "version": 3
   },
   "file_extension": ".py",
   "mimetype": "text/x-python",
   "name": "python",
   "nbconvert_exporter": "python",
   "pygments_lexer": "ipython3",
   "version": "3.9.5"
  },
  "orig_nbformat": 4,
  "kernelspec": {
   "name": "python3",
   "display_name": "Python 3.9.5 64-bit ('fml': conda)"
  },
  "interpreter": {
   "hash": "d6d714ca9cbc6de006a16c190909a1920481c4374d77180bfbf747964b847d86"
  }
 },
 "nbformat": 4,
 "nbformat_minor": 2,
 "cells": [
  {
   "cell_type": "code",
   "execution_count": 10,
   "metadata": {},
   "outputs": [
    {
     "output_type": "stream",
     "name": "stdout",
     "text": [
      "X[0] : [5.1 3.5 1.4 0.2]\nX[1] : [4.9 3.  1.4 0.2]\nEuclidiean : 0.5385164807134502\ncityblock : 0.6999999999999993\n"
     ]
    }
   ],
   "source": [
    "from sklearn.datasets import load_iris\n",
    "from scipy.spatial.distance import euclidean , cityblock\n",
    "\n",
    "\n",
    "datasets = load_iris()\n",
    "X,y = datasets.data , datasets.target\n",
    "#print('len: ',len(X))\n",
    "\n",
    "print('X[0] :',X[0])\n",
    "print('X[1] :',X[1])\n",
    "\n",
    "eucil = euclidean(X[0],X[1])\n",
    "\n",
    "print('Euclidiean :', eucil)\n",
    "\n",
    "cityblock = cityblock(X[0],X[1])\n",
    "print('cityblock :', cityblock)"
   ]
  }
 ]
}