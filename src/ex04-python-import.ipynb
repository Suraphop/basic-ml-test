{
 "metadata": {
  "language_info": {
   "codemirror_mode": {
    "name": "ipython",
    "version": 3
   },
   "file_extension": ".py",
   "mimetype": "text/x-python",
   "name": "python",
   "nbconvert_exporter": "python",
   "pygments_lexer": "ipython3",
   "version": "3.9.5"
  },
  "orig_nbformat": 4,
  "kernelspec": {
   "name": "python3",
   "display_name": "Python 3.9.5 64-bit ('base': conda)"
  },
  "interpreter": {
   "hash": "be57c52174803b16f93146b11b13948bf296d6995450256e3d545cb683454412"
  }
 },
 "nbformat": 4,
 "nbformat_minor": 2,
 "cells": [
  {
   "cell_type": "code",
   "execution_count": 25,
   "metadata": {},
   "outputs": [
    {
     "output_type": "stream",
     "name": "stdout",
     "text": [
      "hello my name is suraphop bunsawat\nNone\n"
     ]
    }
   ],
   "source": [
    "import person1 as ps\n",
    "\n",
    "#p3 = person1.Person('suraphop','bunsawat',30)\n",
    "p3 = ps.Person('suraphop','bunsawat',30)\n",
    "\n",
    "print(p3.myfunc())\n"
   ]
  },
  {
   "cell_type": "code",
   "execution_count": 40,
   "metadata": {},
   "outputs": [
    {
     "output_type": "stream",
     "name": "stdout",
     "text": [
      "hello my name is suraphop bunsawat2\nNone\n"
     ]
    }
   ],
   "source": [
    "from person1 import Person\n",
    "\n",
    "p4 = Person('suraphop','bunsawat2',30)\n",
    "\n",
    "print(p4.myfunc())\n"
   ]
  }
 ]
}