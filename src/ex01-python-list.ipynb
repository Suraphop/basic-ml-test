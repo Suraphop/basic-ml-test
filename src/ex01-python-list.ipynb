{
 "metadata": {
  "language_info": {
   "codemirror_mode": {
    "name": "ipython",
    "version": 3
   },
   "file_extension": ".py",
   "mimetype": "text/x-python",
   "name": "python",
   "nbconvert_exporter": "python",
   "pygments_lexer": "ipython3",
   "version": "3.9.5"
  },
  "orig_nbformat": 4,
  "kernelspec": {
   "name": "python3",
   "display_name": "Python 3.9.5 64-bit ('fml': conda)"
  },
  "interpreter": {
   "hash": "d6d714ca9cbc6de006a16c190909a1920481c4374d77180bfbf747964b847d86"
  }
 },
 "nbformat": 4,
 "nbformat_minor": 2,
 "cells": [
  {
   "cell_type": "code",
   "execution_count": 10,
   "metadata": {},
   "outputs": [
    {
     "output_type": "stream",
     "name": "stdout",
     "text": [
      "11\n"
     ]
    }
   ],
   "source": [
    "#comment\n",
    "'''\n",
    "print('Hello world') #comment2\n",
    "print('hello world2')\n",
    "'''\n",
    "print('11')\n"
   ]
  },
  {
   "cell_type": "code",
   "execution_count": 163,
   "metadata": {},
   "outputs": [
    {
     "output_type": "stream",
     "name": "stdout",
     "text": [
      "ok\n"
     ]
    }
   ],
   "source": [
    "#list\n",
    "mylist = ['apple',34,True]\n",
    "\n",
    "# print(mylist)\n",
    "# print('len :\\n',len(mylist),'ea')\n",
    "# print(type(mylist))\n",
    "\n",
    "tuple1 = (\"apple\",'banana','cherry')\n",
    "#print(type(tuple1))\n",
    "\n",
    "list1 = list(tuple1)\n",
    "# print(type(list1))\n",
    "\n",
    "# print(list1[:])\n",
    "\n",
    "if 'banana' in  list1:\n",
    "    print('ok')\n",
    "else:\n",
    "    print('not detect')\n",
    "\n"
   ]
  },
  {
   "cell_type": "code",
   "execution_count": null,
   "metadata": {},
   "outputs": [],
   "source": [
    "#addition\n",
    "list1 = [\"apple\",'banana','cherry']\n",
    "\n",
    "list1[1] = 'orange'\n",
    "print(list1)\n",
    "\n",
    "list1[1:2] = ['milk','coco']\n",
    "print(list1)\n",
    "\n",
    "list1.insert(2,\"choco\")\n",
    "print(list1)\n",
    "\n",
    "list1.append('stawberry')\n",
    "print(list1)"
   ]
  },
  {
   "cell_type": "code",
   "execution_count": 111,
   "metadata": {},
   "outputs": [
    {
     "output_type": "stream",
     "name": "stdout",
     "text": [
      "['apple', 'banana', 'cherry', 'mango', 'pineapple', 'payaya']\n"
     ]
    }
   ],
   "source": [
    "#extend lists\n",
    "\n",
    "list1 = [\"apple\",'banana','cherry']\n",
    "list2 = ['mango','pineapple','payaya']\n",
    "\n",
    "list1.extend(list2)\n",
    "print(list1)"
   ]
  },
  {
   "cell_type": "code",
   "execution_count": 143,
   "metadata": {},
   "outputs": [
    {
     "output_type": "stream",
     "name": "stdout",
     "text": [
      "['apple', 'banana', 'cherry']\n"
     ]
    }
   ],
   "source": [
    "#remove \n",
    "list1 = [\"apple\",'banana','cherry']\n",
    "\n",
    "#list1.remove('apple')\n",
    "#list1.remove(list1[0])\n",
    "#list1.pop()\n",
    "#del list1[0]\n",
    "#list1.clear()\n",
    "\n",
    "print(list1)\n"
   ]
  },
  {
   "cell_type": "code",
   "execution_count": 160,
   "metadata": {},
   "outputs": [
    {
     "output_type": "stream",
     "name": "stdout",
     "text": [
      "apple\nbanana\ncherry\n"
     ]
    },
    {
     "output_type": "execute_result",
     "data": {
      "text/plain": [
       "[None, None, None]"
      ]
     },
     "metadata": {},
     "execution_count": 160
    }
   ],
   "source": [
    "#loop \n",
    "list1 = [\"apple\",'banana','cherry']\n",
    "\n",
    "#for x in list1:\n",
    "#    print(x)\n",
    "\n",
    "# for i in range(len(list1)-1):\n",
    "#     print(list1[i])\n",
    "\n",
    "# j=0\n",
    "# while j < len(list1):\n",
    "#     print(list1[j])\n",
    "#     j=j+1\n",
    "\n",
    "[print(k) for k in list1]"
   ]
  }
 ]
}