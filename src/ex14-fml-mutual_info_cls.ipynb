{
 "metadata": {
  "language_info": {
   "codemirror_mode": {
    "name": "ipython",
    "version": 3
   },
   "file_extension": ".py",
   "mimetype": "text/x-python",
   "name": "python",
   "nbconvert_exporter": "python",
   "pygments_lexer": "ipython3",
   "version": "3.9.5"
  },
  "orig_nbformat": 4,
  "kernelspec": {
   "name": "python3",
   "display_name": "Python 3.9.5 64-bit ('fml': conda)"
  },
  "interpreter": {
   "hash": "d6d714ca9cbc6de006a16c190909a1920481c4374d77180bfbf747964b847d86"
  }
 },
 "nbformat": 4,
 "nbformat_minor": 2,
 "cells": [
  {
   "cell_type": "code",
   "execution_count": 5,
   "metadata": {},
   "outputs": [
    {
     "output_type": "stream",
     "name": "stdout",
     "text": [
      "sepal length (cm) -> 0.49234881894844706\nsepal width (cm) -> 0.28898977560280037\npetal length (cm) -> 1.0036775465621404\npetal width (cm) -> 0.9749344410980596\n"
     ]
    }
   ],
   "source": [
    "from sklearn.datasets import load_iris\n",
    "from sklearn.feature_selection import mutual_info_classif\n",
    "\n",
    "datasets = load_iris()\n",
    "X,y = datasets.data,datasets.target\n",
    "#print(len(X))\n",
    "\n",
    "mi = mutual_info_classif(X,y)\n",
    "\n",
    "for i in range(len(mi)):\n",
    "    print(datasets.feature_names[i],'->',mi[i])\n"
   ]
  }
 ]
}