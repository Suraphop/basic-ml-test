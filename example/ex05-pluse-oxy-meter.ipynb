{
 "cells": [
  {
   "cell_type": "code",
   "execution_count": 128,
   "source": [
    "# import the necessary packages\r\n",
    "from imutils.perspective import four_point_transform\r\n",
    "from imutils import contours\r\n",
    "import imutils\r\n",
    "import cv2\r\n",
    "# define the dictionary of digit segments so we can identify\r\n",
    "# each digit on the thermostat\r\n",
    "DIGITS_LOOKUP = {\r\n",
    "\t(1, 1, 1, 0, 1, 1, 1): 0,\r\n",
    "\t(0, 0, 1, 0, 0, 1, 0): 1,\r\n",
    "\t(1, 0, 1, 1, 1, 1, 0): 2,\r\n",
    "\t(1, 0, 1, 1, 0, 1, 1): 3,\r\n",
    "\t(0, 1, 1, 1, 0, 1, 0): 4,\r\n",
    "\t(1, 1, 0, 1, 0, 1, 1): 5,\r\n",
    "\t(1, 1, 0, 1, 1, 1, 1): 6,\r\n",
    "\t(1, 0, 1, 0, 0, 1, 0): 7,\r\n",
    "\t(1, 1, 1, 1, 1, 1, 1): 8,\r\n",
    "\t(1, 1, 1, 1, 0, 1, 1): 9\r\n",
    "}"
   ],
   "outputs": [],
   "metadata": {}
  },
  {
   "cell_type": "code",
   "execution_count": 129,
   "source": [
    "# load the example image\r\n",
    "import numpy as np\r\n",
    "\r\n",
    "image = cv2.imread(\"oxy2.jpg\") # 7,10,11\r\n",
    "# pre-process the image by resizing it, converting it to\r\n",
    "# graycale, blurring it, and computing an edge map\r\n",
    "image = imutils.resize(image, height=500,width =200)\r\n",
    "print(image.shape)\r\n",
    "\r\n",
    "image_cvt = image.copy()\r\n",
    "\r\n",
    "hsv = cv2.cvtColor(image_cvt, cv2.COLOR_BGR2HSV)\r\n",
    "lb = np.array([10, 50, 50])\r\n",
    "ub = np.array([40, 250, 250])\r\n",
    "mask = cv2.inRange(hsv, lb, ub)\r\n",
    "image_cvt = cv2.bitwise_and(image_cvt, image_cvt, mask=mask)\r\n",
    "\r\n",
    "gray = cv2.cvtColor(image, cv2.COLOR_BGR2GRAY)\r\n",
    "gray_cvt = cv2.cvtColor(image_cvt, cv2.COLOR_BGR2GRAY)\r\n",
    "blurred = cv2.GaussianBlur(gray_cvt, (5, 5), 0)\r\n",
    "edged = cv2.Canny(blurred, 150, 150, 255) #220 220\r\n",
    "\r\n",
    "cv2.imshow('output',image)\r\n",
    "cv2.imshow('edge',edged)\r\n",
    "cv2.waitKey(0)\r\n",
    "cv2.destroyAllWindows()\r\n"
   ],
   "outputs": [
    {
     "output_type": "stream",
     "name": "stdout",
     "text": [
      "(301, 200, 3)\n"
     ]
    }
   ],
   "metadata": {}
  },
  {
   "cell_type": "code",
   "execution_count": 130,
   "source": [
    "# find contours in the edge map, then sort them by their\r\n",
    "# size in descending order\r\n",
    "cnts = cv2.findContours(edged.copy(), cv2.RETR_EXTERNAL,\r\n",
    "\tcv2.CHAIN_APPROX_SIMPLE)\r\n",
    "cnts = imutils.grab_contours(cnts)\r\n",
    "cnts = sorted(cnts, key=cv2.contourArea, reverse=True)\r\n",
    "\r\n",
    "displayCnt = None\r\n",
    "# loop over the contours\r\n",
    "for c in cnts:\r\n",
    "\t# approximate the contour\r\n",
    "\tperi = cv2.arcLength(c, True)\r\n",
    "\tapprox = cv2.approxPolyDP(c, 0.02 * peri, True)\r\n",
    "\t# if the contour has four vertices, then we have found\r\n",
    "\t# the thermostat display\r\n",
    "\tif len(approx) == 4:\r\n",
    "\t\tdisplayCnt = approx\r\n",
    "\t\tbreak\r\n",
    "print(displayCnt)"
   ],
   "outputs": [
    {
     "output_type": "stream",
     "name": "stdout",
     "text": [
      "[[[ 28  41]]\n",
      "\n",
      " [[  7 247]]\n",
      "\n",
      " [[165 266]]\n",
      "\n",
      " [[188  58]]]\n"
     ]
    }
   ],
   "metadata": {}
  },
  {
   "cell_type": "code",
   "execution_count": 131,
   "source": [
    "# extract the thermostat display, apply a perspective transform\r\n",
    "# to it\r\n",
    "warped = four_point_transform(gray, displayCnt.reshape(4, 2))\r\n",
    "output = four_point_transform(image, displayCnt.reshape(4, 2))\r\n",
    "\r\n",
    "\r\n",
    "cv2.imshow('d',warped)\r\n",
    "cv2.waitKey(0)\r\n",
    "cv2.destroyAllWindows()\r\n",
    "\r\n"
   ],
   "outputs": [],
   "metadata": {}
  },
  {
   "cell_type": "code",
   "execution_count": 132,
   "source": [
    "# threshold the warped image, then apply a series of morphological\r\n",
    "# operations to cleanup the thresholded image\r\n",
    "import numpy as np\r\n",
    "thresh = cv2.threshold(warped, 100, 250,\r\n",
    "\tcv2.THRESH_BINARY | cv2.THRESH_OTSU)[1]\r\n",
    "#kernel = cv2.getStructuringElement(cv2.MORPH_ELLIPSE, (2, 1)) # dark\r\n",
    "#thresh = cv2.morphologyEx(thresh, cv2.MORPH_OPEN, kernel) #dark\r\n",
    "\r\n",
    "# ksize = (3,3) #light\r\n",
    "# kernels = np.ones(ksize, np.uint8)\r\n",
    "\r\n",
    "# thresh = cv2.dilate(thresh, kernels, iterations=1) #การพองตัว\r\n",
    "\r\n",
    "kernel = cv2.getStructuringElement(cv2.MORPH_RECT, ksize=(1, 2 * 4))\r\n",
    "thresh = cv2.dilate(thresh, kernel)\r\n",
    "thresh2 = thresh.copy()\r\n",
    "\r\n",
    "\r\n",
    "y,x = thresh.shape\r\n",
    "\r\n",
    "yy_0 = int(y//5)\r\n",
    "yy = int(y//1.6)\r\n",
    "xx_0 = int(y//5)\r\n",
    "xx = int(y//1.6)\r\n",
    "\r\n",
    "thresh = thresh[yy_0:yy,xx_0:xx]\r\n",
    "\r\n",
    "\r\n",
    "yy_0_2 = int(y//1.7)\r\n",
    "xx_0_2 = int(y//5)\r\n",
    "xx_2 = int(y//1.4)\r\n",
    "\r\n",
    "thresh2 = thresh2[yy_0_2:,xx_0_2:xx_2]\r\n",
    "\r\n",
    "cv2.imshow('d',thresh)\r\n",
    "cv2.imshow('2',thresh2)\r\n",
    "cv2.waitKey(0)\r\n",
    "cv2.destroyAllWindows()"
   ],
   "outputs": [],
   "metadata": {}
  },
  {
   "cell_type": "code",
   "execution_count": 133,
   "source": [
    "\r\n",
    "# find contours in the thresholded image, then initialize the\r\n",
    "# digit contours lists\r\n",
    "cnts = cv2.findContours(thresh.copy(), cv2.RETR_EXTERNAL,\r\n",
    "\tcv2.CHAIN_APPROX_SIMPLE)\r\n",
    "cnts = imutils.grab_contours(cnts)\r\n",
    "print(len(cnts))\r\n",
    "digitCnts = []\r\n",
    "# loop over the digit area candidates\r\n",
    "for c in cnts:\r\n",
    "\t# compute the bounding box of the contour\r\n",
    "\t(x, y, w, h) = cv2.boundingRect(c)\r\n",
    "\t# if the contour is sufficiently large, it must be a digit\r\n",
    "\t# print('w',w)\r\n",
    "\t# print('h',h)\r\n",
    "\tif w >= 10 and (h >= 5 and h <= 150):\r\n",
    "\t\tdigitCnts.append(c)\r\n",
    "print(len(digitCnts))\r\n"
   ],
   "outputs": [
    {
     "output_type": "stream",
     "name": "stdout",
     "text": [
      "3\n",
      "2\n"
     ]
    }
   ],
   "metadata": {}
  },
  {
   "cell_type": "code",
   "execution_count": 134,
   "source": [
    "# sort the contours from left-to-right, then initialize the\r\n",
    "# actual digits themselves\r\n",
    "digitCnts = contours.sort_contours(digitCnts,\r\n",
    "\tmethod=\"left-to-right\")[0]\r\n",
    "digits = []\r\n",
    "\r\n"
   ],
   "outputs": [],
   "metadata": {}
  },
  {
   "cell_type": "code",
   "execution_count": 135,
   "source": [
    "# loop over each of the digits\r\n",
    "for c in digitCnts:\r\n",
    "\t# extract the digit ROI\r\n",
    "\t(x, y, w, h) = cv2.boundingRect(c)\r\n",
    "\troi = thresh[y:y + h, x:x + w]\r\n",
    "\tcv2.imshow(\"Output\", roi)\r\n",
    "\tcv2.waitKey(0)\r\n",
    "\tcv2.destroyAllWindows()\r\n",
    "\t\r\n",
    "\t# compute the width and height of each of the 7 segments\r\n",
    "\t# we are going to examine\r\n",
    "\t(roiH, roiW) = roi.shape\r\n",
    "\t(dW, dH) = (int(roiW * 0.25), int(roiH * 0.15))\r\n",
    "\tdHC = int(roiH * 0.05)\r\n",
    "\t# define the set of 7 segments\r\n",
    "\tsegments = [\r\n",
    "\t\t((0, 0), (w, dH)),\t# top\r\n",
    "\t\t((0, 0), (dW, h // 2)),\t# top-left\r\n",
    "\t\t((w - dW, 0), (w, h // 2)),\t# top-right\r\n",
    "\t\t((0, (h // 2) - dHC) , (w, (h // 2) + dHC)), # center\r\n",
    "\t\t((0, h // 2), (dW, h)),\t# bottom-left\r\n",
    "\t\t((w - dW, h // 2), (w, h)),\t# bottom-right\r\n",
    "\t\t((0, h - dH), (w, h))\t# bottom\r\n",
    "\t]\r\n",
    "\ton = [0] * len(segments)\r\n",
    "\r\n",
    "\t\t# loop over the segments\r\n",
    "\tfor (i, ((xA, yA), (xB, yB))) in enumerate(segments):\r\n",
    "\t\t# extract the segment ROI, count the total number of\r\n",
    "\t\t# thresholded pixels in the segment, and then compute\r\n",
    "\t\t# the area of the segment\r\n",
    "\t\tsegROI = roi[yA:yB, xA:xB]\r\n",
    "\t\ttotal = cv2.countNonZero(segROI)\r\n",
    "\t\tarea = (xB - xA) * (yB - yA)\r\n",
    "\t\t# if the total number of non-zero pixels is greater than\r\n",
    "\t\t# 50% of the area, mark the segment as \"on\"\r\n",
    "\t\tif total / float(area) > 0.5:\r\n",
    "\t\t\ton[i]= 1\r\n",
    "\t# lookup the digit and draw it on the image\r\n",
    "\tdigit = DIGITS_LOOKUP[tuple(on)]\r\n",
    "\tdigits.append(digit)\r\n",
    "\tcv2.rectangle(output, (x+xx_0, y+yy_0), (x + xx, y + yy), (0, 255, 0), 1)\r\n",
    "\tcv2.putText(output, str(digit), (x - 10, y - 10),\r\n",
    "\tcv2.FONT_HERSHEY_SIMPLEX, 0.65, (0, 255, 0), 2)\r\n",
    "\r\n",
    "\r\n",
    "number = \"{}{}\".format(*digits)\r\n",
    "\r\n",
    "cv2.putText(image, \"Oxygen :\"+str(number), (10, 20),\r\n",
    "\tcv2.FONT_HERSHEY_SIMPLEX, 0.65, (255, 255, 0), 2)\r\n",
    "print(number)"
   ],
   "outputs": [
    {
     "output_type": "stream",
     "name": "stdout",
     "text": [
      "98\n"
     ]
    }
   ],
   "metadata": {}
  },
  {
   "cell_type": "code",
   "execution_count": 136,
   "source": [
    "# find contours in the thresholded image, then initialize the\r\n",
    "# digit contours lists\r\n",
    "cnts = cv2.findContours(thresh2.copy(), cv2.RETR_EXTERNAL,\r\n",
    "\tcv2.CHAIN_APPROX_SIMPLE)\r\n",
    "cnts = imutils.grab_contours(cnts)\r\n",
    "print(len(cnts))\r\n",
    "digitCnts = []\r\n",
    "# loop over the digit area candidates\r\n",
    "for c in cnts:\r\n",
    "\t# compute the bounding box of the contour\r\n",
    "\t(x, y, w, h) = cv2.boundingRect(c)\r\n",
    "\t# if the contour is sufficiently large, it must be a digit\r\n",
    "\t# print('w',w)\r\n",
    "\t# print('h',h)\r\n",
    "\tif w >= 10 and (h >= 10 and h <= 130):\r\n",
    "\t\tdigitCnts.append(c)\r\n",
    "print(len(digitCnts))\r\n",
    "\r\n",
    "\r\n",
    "# sort the contours from left-to-right, then initialize the\r\n",
    "# actual digits themselves\r\n",
    "digitCnts = contours.sort_contours(digitCnts,\r\n",
    "\tmethod=\"left-to-right\")[0]\r\n",
    "digits = []\r\n",
    "\r\n"
   ],
   "outputs": [
    {
     "output_type": "stream",
     "name": "stdout",
     "text": [
      "5\n",
      "2\n"
     ]
    }
   ],
   "metadata": {}
  },
  {
   "cell_type": "code",
   "execution_count": 137,
   "source": [
    "# loop over each of the digits\r\n",
    "for c in digitCnts:\r\n",
    "\t# extract the digit ROI\r\n",
    "\t(x, y, w, h) = cv2.boundingRect(c)\r\n",
    "\troi = thresh2[y:y + h, x:x + w]\r\n",
    "\tcv2.imshow(\"Output\", roi)\r\n",
    "\tcv2.waitKey(0)\r\n",
    "\tcv2.destroyAllWindows()\r\n",
    "\t\r\n",
    "\t# compute the width and height of each of the 7 segments\r\n",
    "\t# we are going to examine\r\n",
    "\t(roiH, roiW) = roi.shape\r\n",
    "\t(dW, dH) = (int(roiW * 0.25), int(roiH * 0.15))\r\n",
    "\tdHC = int(roiH * 0.05)\r\n",
    "\t# define the set of 7 segments\r\n",
    "\tsegments = [\r\n",
    "\t\t((0, 0), (w, dH)),\t# top\r\n",
    "\t\t((0, 0), (dW, h // 2)),\t# top-left\r\n",
    "\t\t((w - dW, 0), (w, h // 2)),\t# top-right\r\n",
    "\t\t((0, (h // 2) - dHC) , (w, (h // 2) + dHC)), # center\r\n",
    "\t\t((0, h // 2), (dW, h)),\t# bottom-left\r\n",
    "\t\t((w - dW, h // 2), (w, h)),\t# bottom-right\r\n",
    "\t\t((0, h - dH), (w, h))\t# bottom\r\n",
    "\t]\r\n",
    "\ton = [0] * len(segments)\r\n",
    "\r\n",
    "\t\t# loop over the segments\r\n",
    "\tfor (i, ((xA, yA), (xB, yB))) in enumerate(segments):\r\n",
    "\t\t# extract the segment ROI, count the total number of\r\n",
    "\t\t# thresholded pixels in the segment, and then compute\r\n",
    "\t\t# the area of the segment\r\n",
    "\t\tsegROI = roi[yA:yB, xA:xB]\r\n",
    "\t\ttotal = cv2.countNonZero(segROI)\r\n",
    "\t\tarea = (xB - xA) * (yB - yA)\r\n",
    "\t\t# if the total number of non-zero pixels is greater than\r\n",
    "\t\t# 50% of the area, mark the segment as \"on\"\r\n",
    "\t\tif total / float(area) > 0.5:\r\n",
    "\t\t\ton[i]= 1\r\n",
    "\t# lookup the digit and draw it on the image\r\n",
    "\tdigit = DIGITS_LOOKUP[tuple(on)]\r\n",
    "\tdigits.append(digit)\r\n",
    "\tcv2.rectangle(output, (x, y), (x + w, y + h), (0, 255, 0), 1)\r\n",
    "\tcv2.putText(output, str(digit), (x - 10, y - 10),\r\n",
    "\tcv2.FONT_HERSHEY_SIMPLEX, 0.65, (0, 255, 0), 2)\r\n",
    "\r\n",
    "\r\n",
    "number = \"{}{}\".format(*digits)\r\n",
    "\r\n",
    "cv2.putText(image, \"pluse :\"+str(number), (10, 50),\r\n",
    "\tcv2.FONT_HERSHEY_SIMPLEX, 0.65, (255, 255, 0), 2)\r\n",
    "print(number)"
   ],
   "outputs": [
    {
     "output_type": "stream",
     "name": "stdout",
     "text": [
      "99\n"
     ]
    }
   ],
   "metadata": {}
  },
  {
   "cell_type": "code",
   "execution_count": 138,
   "source": [
    "# display the digits\r\n",
    "\r\n",
    "# print(\"{}{}.{}\".format(*digits))\r\n",
    "\r\n",
    "cv2.imshow(\"Input\", image)\r\n",
    "#cv2.imshow(\"Output\", output)\r\n",
    "cv2.waitKey(0)\r\n",
    "cv2.destroyAllWindows()"
   ],
   "outputs": [],
   "metadata": {}
  }
 ],
 "metadata": {
  "orig_nbformat": 4,
  "language_info": {
   "name": "python",
   "version": "3.9.5",
   "mimetype": "text/x-python",
   "codemirror_mode": {
    "name": "ipython",
    "version": 3
   },
   "pygments_lexer": "ipython3",
   "nbconvert_exporter": "python",
   "file_extension": ".py"
  },
  "kernelspec": {
   "name": "python3",
   "display_name": "Python 3.9.5 64-bit ('cv': conda)"
  },
  "interpreter": {
   "hash": "b24c52352ef91daf00e83c4e0a0f6d4e74ece916e767372443e591080662852c"
  }
 },
 "nbformat": 4,
 "nbformat_minor": 2
}