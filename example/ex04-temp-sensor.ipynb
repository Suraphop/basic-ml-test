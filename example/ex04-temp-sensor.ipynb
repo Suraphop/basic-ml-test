{
 "cells": [
  {
   "cell_type": "code",
   "execution_count": 1,
   "source": [
    "# import the necessary packages\r\n",
    "from imutils.perspective import four_point_transform\r\n",
    "from imutils import contours\r\n",
    "import imutils\r\n",
    "import cv2\r\n",
    "# define the dictionary of digit segments so we can identify\r\n",
    "# each digit on the thermostat\r\n",
    "DIGITS_LOOKUP = {\r\n",
    "\t(1, 1, 1, 0, 1, 1, 1): 0,\r\n",
    "\t(0, 0, 1, 0, 0, 1, 0): 1,\r\n",
    "\t(1, 0, 1, 1, 1, 1, 0): 2,\r\n",
    "\t(1, 0, 1, 1, 0, 1, 1): 3,\r\n",
    "\t(0, 1, 1, 1, 0, 1, 0): 4,\r\n",
    "\t(1, 1, 0, 1, 0, 1, 1): 5,\r\n",
    "\t(1, 1, 0, 1, 1, 1, 1): 6,\r\n",
    "\t(1, 0, 1, 0, 0, 1, 0): 7,\r\n",
    "\t(1, 1, 1, 1, 1, 1, 1): 8,\r\n",
    "\t(1, 1, 1, 1, 0, 1, 1): 9\r\n",
    "}"
   ],
   "outputs": [],
   "metadata": {}
  },
  {
   "cell_type": "code",
   "execution_count": 2,
   "source": [
    "# load the example image\r\n",
    "\r\n",
    "image = cv2.imread(\"sample11.jpg\") # 7,10,11\r\n",
    "# pre-process the image by resizing it, converting it to\r\n",
    "# graycale, blurring it, and computing an edge map\r\n",
    "image = imutils.resize(image, height=500,width =400)\r\n",
    "print(image.shape)\r\n",
    "gray = cv2.cvtColor(image, cv2.COLOR_BGR2GRAY)\r\n",
    "blurred = cv2.GaussianBlur(gray, (5, 5), 0)\r\n",
    "edged = cv2.Canny(blurred, 20, 100, 255)\r\n",
    "\r\n",
    "cv2.imshow('edge',edged)\r\n",
    "cv2.waitKey(0)\r\n",
    "cv2.destroyAllWindows()\r\n"
   ],
   "outputs": [
    {
     "output_type": "stream",
     "name": "stdout",
     "text": [
      "(249, 400, 3)\n"
     ]
    }
   ],
   "metadata": {}
  },
  {
   "cell_type": "code",
   "execution_count": null,
   "source": [
    "# find contours in the edge map, then sort them by their\r\n",
    "# size in descending order\r\n",
    "cnts = cv2.findContours(edged.copy(), cv2.RETR_EXTERNAL,\r\n",
    "\tcv2.CHAIN_APPROX_SIMPLE)\r\n",
    "cnts = imutils.grab_contours(cnts)\r\n",
    "cnts = sorted(cnts, key=cv2.contourArea, reverse=True)\r\n",
    "displayCnt = None\r\n",
    "# loop over the contours\r\n",
    "for c in cnts:\r\n",
    "\t# approximate the contour\r\n",
    "\tperi = cv2.arcLength(c, True)\r\n",
    "\tapprox = cv2.approxPolyDP(c, 0.02 * peri, True)\r\n",
    "\t# if the contour has four vertices, then we have found\r\n",
    "\t# the thermostat display\r\n",
    "\tif len(approx) == 4:\r\n",
    "\t\tdisplayCnt = approx\r\n",
    "\t\tbreak\r\n"
   ],
   "outputs": [],
   "metadata": {}
  },
  {
   "cell_type": "code",
   "execution_count": null,
   "source": [
    "# extract the thermostat display, apply a perspective transform\r\n",
    "# to it\r\n",
    "warped = four_point_transform(gray, displayCnt.reshape(4, 2))\r\n",
    "output = four_point_transform(image, displayCnt.reshape(4, 2))\r\n",
    "\r\n",
    "\r\n",
    "cv2.imshow('d',warped)\r\n",
    "cv2.waitKey(0)\r\n",
    "cv2.destroyAllWindows()\r\n",
    "\r\n"
   ],
   "outputs": [],
   "metadata": {}
  },
  {
   "cell_type": "code",
   "execution_count": null,
   "source": [
    "# threshold the warped image, then apply a series of morphological\r\n",
    "# operations to cleanup the thresholded image\r\n",
    "import numpy as np\r\n",
    "thresh = cv2.threshold(warped, 50, 255,\r\n",
    "\tcv2.THRESH_BINARY_INV | cv2.THRESH_OTSU)[1]\r\n",
    "kernel = cv2.getStructuringElement(cv2.MORPH_ELLIPSE, (1, 9)) # dark\r\n",
    "thresh = cv2.morphologyEx(thresh, cv2.MORPH_OPEN, kernel) #dark\r\n",
    "\r\n",
    "\r\n",
    "#ksize = (3,3) #light\r\n",
    "ksize = (5,5) #dark\r\n",
    "kernels = np.ones(ksize, np.uint8)\r\n",
    "\r\n",
    "thresh = cv2.dilate(thresh, kernels, iterations=1) #การพองตัว\r\n",
    "offset = 20\r\n",
    "\r\n",
    "thresh = thresh[offset:-20,:]\r\n",
    "cv2.imshow('d',thresh)\r\n",
    "cv2.waitKey(0)\r\n",
    "cv2.destroyAllWindows()"
   ],
   "outputs": [],
   "metadata": {}
  },
  {
   "cell_type": "code",
   "execution_count": null,
   "source": [
    "\r\n",
    "# find contours in the thresholded image, then initialize the\r\n",
    "# digit contours lists\r\n",
    "cnts = cv2.findContours(thresh.copy(), cv2.RETR_EXTERNAL,\r\n",
    "\tcv2.CHAIN_APPROX_SIMPLE)\r\n",
    "cnts = imutils.grab_contours(cnts)\r\n",
    "print(len(cnts))\r\n",
    "digitCnts = []\r\n",
    "# loop over the digit area candidates\r\n",
    "for c in cnts:\r\n",
    "\t# compute the bounding box of the contour\r\n",
    "\t(x, y, w, h) = cv2.boundingRect(c)\r\n",
    "\t# if the contour is sufficiently large, it must be a digit\r\n",
    "\t# print('w',w)\r\n",
    "\t# print('h',h)\r\n",
    "\tif w >= 30 and (h >= 30 and h <= 130):\r\n",
    "\t\tdigitCnts.append(c)\r\n",
    "\t\tprint(len(cnts))\r\n"
   ],
   "outputs": [
    {
     "output_type": "stream",
     "name": "stdout",
     "text": [
      "20\n",
      "20\n",
      "20\n",
      "20\n"
     ]
    }
   ],
   "metadata": {}
  },
  {
   "cell_type": "code",
   "execution_count": null,
   "source": [
    "# sort the contours from left-to-right, then initialize the\r\n",
    "# actual digits themselves\r\n",
    "digitCnts = contours.sort_contours(digitCnts,\r\n",
    "\tmethod=\"left-to-right\")[0]\r\n",
    "digits = []\r\n",
    "\r\n"
   ],
   "outputs": [],
   "metadata": {}
  },
  {
   "cell_type": "code",
   "execution_count": null,
   "source": [
    "# loop over each of the digits\r\n",
    "for c in digitCnts:\r\n",
    "\t# extract the digit ROI\r\n",
    "\t(x, y, w, h) = cv2.boundingRect(c)\r\n",
    "\troi = thresh[y:y + h, x:x + w]\r\n",
    "\tcv2.imshow(\"Output\", roi)\r\n",
    "\tcv2.waitKey(0)\r\n",
    "\tcv2.destroyAllWindows()\r\n",
    "\t\r\n",
    "\t# compute the width and height of each of the 7 segments\r\n",
    "\t# we are going to examine\r\n",
    "\t(roiH, roiW) = roi.shape\r\n",
    "\t(dW, dH) = (int(roiW * 0.25), int(roiH * 0.15))\r\n",
    "\tdHC = int(roiH * 0.05)\r\n",
    "\t# define the set of 7 segments\r\n",
    "\tsegments = [\r\n",
    "\t\t((0, 0), (w, dH)),\t# top\r\n",
    "\t\t((0, 0), (dW, h // 2)),\t# top-left\r\n",
    "\t\t((w - dW, 0), (w, h // 2)),\t# top-right\r\n",
    "\t\t((0, (h // 2) - dHC) , (w, (h // 2) + dHC)), # center\r\n",
    "\t\t((0, h // 2), (dW, h)),\t# bottom-left\r\n",
    "\t\t((w - dW, h // 2), (w, h)),\t# bottom-right\r\n",
    "\t\t((0, h - dH), (w, h))\t# bottom\r\n",
    "\t]\r\n",
    "\ton = [0] * len(segments)\r\n",
    "\r\n",
    "\t\t# loop over the segments\r\n",
    "\tfor (i, ((xA, yA), (xB, yB))) in enumerate(segments):\r\n",
    "\t\t# extract the segment ROI, count the total number of\r\n",
    "\t\t# thresholded pixels in the segment, and then compute\r\n",
    "\t\t# the area of the segment\r\n",
    "\t\tsegROI = roi[yA:yB, xA:xB]\r\n",
    "\t\ttotal = cv2.countNonZero(segROI)\r\n",
    "\t\tarea = (xB - xA) * (yB - yA)\r\n",
    "\t\t# if the total number of non-zero pixels is greater than\r\n",
    "\t\t# 50% of the area, mark the segment as \"on\"\r\n",
    "\t\tif total / float(area) > 0.5:\r\n",
    "\t\t\ton[i]= 1\r\n",
    "\t# lookup the digit and draw it on the image\r\n",
    "\tdigit = DIGITS_LOOKUP[tuple(on)]\r\n",
    "\tdigits.append(digit)\r\n",
    "\tcv2.rectangle(output, (x, y+offset), (x + w, y + h+offset), (0, 255, 0), 1)\r\n",
    "\tcv2.putText(output, str(digit), (x - 10, y - 10),\r\n",
    "\tcv2.FONT_HERSHEY_SIMPLEX, 0.65, (0, 255, 0), 2)\r\n",
    "\r\n",
    "\r\n",
    "number = \"{}{}.{}\".format(*digits)\r\n",
    "\r\n",
    "cv2.putText(image, str(number), (10, 20),\r\n",
    "\tcv2.FONT_HERSHEY_SIMPLEX, 0.65, (255, 255, 0), 2)\r\n",
    "print(number)"
   ],
   "outputs": [
    {
     "output_type": "stream",
     "name": "stdout",
     "text": [
      "35.8\n"
     ]
    }
   ],
   "metadata": {}
  },
  {
   "cell_type": "code",
   "execution_count": null,
   "source": [
    "# display the digits\r\n",
    "\r\n",
    "# print(\"{}{}.{}\".format(*digits))\r\n",
    "\r\n",
    "cv2.imshow(\"Input\", image)\r\n",
    "cv2.imshow(\"Output\", output)\r\n",
    "cv2.waitKey(0)\r\n",
    "cv2.destroyAllWindows()"
   ],
   "outputs": [],
   "metadata": {}
  }
 ],
 "metadata": {
  "orig_nbformat": 4,
  "language_info": {
   "name": "python",
   "version": "3.9.5",
   "mimetype": "text/x-python",
   "codemirror_mode": {
    "name": "ipython",
    "version": 3
   },
   "pygments_lexer": "ipython3",
   "nbconvert_exporter": "python",
   "file_extension": ".py"
  },
  "kernelspec": {
   "name": "python3",
   "display_name": "Python 3.9.5 64-bit ('cv': conda)"
  },
  "interpreter": {
   "hash": "b24c52352ef91daf00e83c4e0a0f6d4e74ece916e767372443e591080662852c"
  }
 },
 "nbformat": 4,
 "nbformat_minor": 2
}